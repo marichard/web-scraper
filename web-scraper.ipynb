{
 "cells": [
  {
   "cell_type": "code",
   "id": "initial_id",
   "metadata": {
    "collapsed": true,
    "ExecuteTime": {
     "end_time": "2025-09-20T19:06:14.938118Z",
     "start_time": "2025-09-20T19:06:14.933170Z"
    }
   },
   "source": [
    "# Add libraries\n",
    "import pandas as pd\n",
    "import requests\n",
    "from bs4 import BeautifulSoup\n",
    "from datetime import datetime"
   ],
   "outputs": [],
   "execution_count": 19
  },
  {
   "metadata": {
    "ExecuteTime": {
     "end_time": "2025-09-20T19:06:15.268349Z",
     "start_time": "2025-09-20T19:06:14.949211Z"
    }
   },
   "cell_type": "code",
   "source": [
    "# get url and add requests\n",
    "url = 'https://coinmarketcap.com/currencies/xrp/'\n",
    "page = requests.get(url)\n",
    "soup = BeautifulSoup(page.content, 'html.parser')"
   ],
   "id": "d73494fb5db6d627",
   "outputs": [],
   "execution_count": 20
  },
  {
   "metadata": {
    "ExecuteTime": {
     "end_time": "2025-09-20T19:06:15.284549Z",
     "start_time": "2025-09-20T19:06:15.278329Z"
    }
   },
   "cell_type": "code",
   "source": [
    "# get name of crypto coin\n",
    "name_tag = soup.find('span', {'data-role': 'coin-name'})\n",
    "crypto_name = name_tag.get('title')\n",
    "print(crypto_name)"
   ],
   "id": "f85968459c452d0d",
   "outputs": [
    {
     "name": "stdout",
     "output_type": "stream",
     "text": [
      "XRP\n"
     ]
    }
   ],
   "execution_count": 21
  },
  {
   "metadata": {
    "ExecuteTime": {
     "end_time": "2025-09-20T19:06:15.304121Z",
     "start_time": "2025-09-20T19:06:15.298858Z"
    }
   },
   "cell_type": "code",
   "source": [
    "# get crypto price\n",
    "crypto_price = soup.find('span', class_ = 'sc-65e7f566-0 WXGwg base-text').text\n",
    "print(crypto_price)"
   ],
   "id": "32ad45af7730d0d9",
   "outputs": [
    {
     "name": "stdout",
     "output_type": "stream",
     "text": [
      "$2.97\n"
     ]
    }
   ],
   "execution_count": 22
  },
  {
   "metadata": {
    "ExecuteTime": {
     "end_time": "2025-09-20T19:06:15.322615Z",
     "start_time": "2025-09-20T19:06:15.318988Z"
    }
   },
   "cell_type": "code",
   "source": [
    "# remove currency symbol from crypto price\n",
    "crypto_price = crypto_price.replace('$','')\n",
    "print(crypto_price)"
   ],
   "id": "2615272b60feed9e",
   "outputs": [
    {
     "name": "stdout",
     "output_type": "stream",
     "text": [
      "2.97\n"
     ]
    }
   ],
   "execution_count": 23
  },
  {
   "metadata": {
    "ExecuteTime": {
     "end_time": "2025-09-20T19:06:15.343220Z",
     "start_time": "2025-09-20T19:06:15.339081Z"
    }
   },
   "cell_type": "code",
   "source": [
    "# get datetime of refresh\n",
    "date_time = datetime.now()\n",
    "print(date_time)"
   ],
   "id": "e9fde0e9d2beae2a",
   "outputs": [
    {
     "name": "stdout",
     "output_type": "stream",
     "text": [
      "2025-09-20 12:06:15.340794\n"
     ]
    }
   ],
   "execution_count": 24
  },
  {
   "metadata": {
    "ExecuteTime": {
     "end_time": "2025-09-20T19:09:10.936711Z",
     "start_time": "2025-09-20T19:09:10.925144Z"
    }
   },
   "cell_type": "code",
   "source": [
    "# create dictionary and dataframe for all data\n",
    "date_time = datetime.now()\n",
    "dict_crypto = {'Name': crypto_name, 'Price': crypto_price, 'TimeStamp': date_time}\n",
    "df_crypto = pd.DataFrame([dict_crypto])\n",
    "df_crypto"
   ],
   "id": "e1fb9493494aeb0a",
   "outputs": [
    {
     "data": {
      "text/plain": [
       "  Name Price                  TimeStamp\n",
       "0  XRP  2.97 2025-09-20 12:09:10.927902"
      ],
      "text/html": [
       "<div>\n",
       "<style scoped>\n",
       "    .dataframe tbody tr th:only-of-type {\n",
       "        vertical-align: middle;\n",
       "    }\n",
       "\n",
       "    .dataframe tbody tr th {\n",
       "        vertical-align: top;\n",
       "    }\n",
       "\n",
       "    .dataframe thead th {\n",
       "        text-align: right;\n",
       "    }\n",
       "</style>\n",
       "<table border=\"1\" class=\"dataframe\">\n",
       "  <thead>\n",
       "    <tr style=\"text-align: right;\">\n",
       "      <th></th>\n",
       "      <th>Name</th>\n",
       "      <th>Price</th>\n",
       "      <th>TimeStamp</th>\n",
       "    </tr>\n",
       "  </thead>\n",
       "  <tbody>\n",
       "    <tr>\n",
       "      <th>0</th>\n",
       "      <td>XRP</td>\n",
       "      <td>2.97</td>\n",
       "      <td>2025-09-20 12:09:10.927902</td>\n",
       "    </tr>\n",
       "  </tbody>\n",
       "</table>\n",
       "</div>"
      ]
     },
     "execution_count": 33,
     "metadata": {},
     "output_type": "execute_result"
    }
   ],
   "execution_count": 33
  },
  {
   "metadata": {
    "ExecuteTime": {
     "end_time": "2025-09-20T19:24:40.323185Z",
     "start_time": "2025-09-20T19:24:40.313322Z"
    }
   },
   "cell_type": "code",
   "source": [
    "# create csv file of data and place in folder\n",
    "df_crypto.to_csv(r'C:\\Users\\marcu\\PythonProjects\\Crypto_Automation.csv')"
   ],
   "id": "850fba80295c8fe5",
   "outputs": [],
   "execution_count": 34
  }
 ],
 "metadata": {
  "kernelspec": {
   "display_name": "Python 3",
   "language": "python",
   "name": "python3"
  },
  "language_info": {
   "codemirror_mode": {
    "name": "ipython",
    "version": 2
   },
   "file_extension": ".py",
   "mimetype": "text/x-python",
   "name": "python",
   "nbconvert_exporter": "python",
   "pygments_lexer": "ipython2",
   "version": "2.7.6"
  }
 },
 "nbformat": 4,
 "nbformat_minor": 5
}
