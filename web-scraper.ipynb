{
 "cells": [
  {
   "cell_type": "code",
   "id": "initial_id",
   "metadata": {
    "collapsed": true,
    "ExecuteTime": {
     "end_time": "2025-09-20T21:56:38.665042Z",
     "start_time": "2025-09-20T21:56:38.660348Z"
    }
   },
   "source": [
    "# Add libraries\n",
    "import pandas as pd\n",
    "import os\n",
    "import requests\n",
    "from bs4 import BeautifulSoup\n",
    "from datetime import datetime\n",
    "\n",
    "from pycparser.c_ast import While"
   ],
   "outputs": [],
   "execution_count": 37
  },
  {
   "metadata": {
    "ExecuteTime": {
     "end_time": "2025-09-20T21:56:38.932529Z",
     "start_time": "2025-09-20T21:56:38.681030Z"
    }
   },
   "cell_type": "code",
   "source": [
    "# get url and add requests\n",
    "url = 'https://coinmarketcap.com/currencies/xrp/'\n",
    "page = requests.get(url)\n",
    "soup = BeautifulSoup(page.content, 'html.parser')"
   ],
   "id": "d73494fb5db6d627",
   "outputs": [],
   "execution_count": 38
  },
  {
   "metadata": {
    "ExecuteTime": {
     "end_time": "2025-09-20T21:56:38.949158Z",
     "start_time": "2025-09-20T21:56:38.944312Z"
    }
   },
   "cell_type": "code",
   "source": [
    "# get name of crypto coin\n",
    "name_tag = soup.find('span', {'data-role': 'coin-name'})\n",
    "crypto_name = name_tag.get('title')\n",
    "print(crypto_name)"
   ],
   "id": "f85968459c452d0d",
   "outputs": [
    {
     "name": "stdout",
     "output_type": "stream",
     "text": [
      "XRP\n"
     ]
    }
   ],
   "execution_count": 39
  },
  {
   "metadata": {
    "ExecuteTime": {
     "end_time": "2025-09-20T21:56:38.975203Z",
     "start_time": "2025-09-20T21:56:38.971290Z"
    }
   },
   "cell_type": "code",
   "source": [
    "# get crypto price\n",
    "crypto_price = soup.find('span', class_ = 'sc-65e7f566-0 WXGwg base-text').text\n",
    "print(crypto_price)"
   ],
   "id": "32ad45af7730d0d9",
   "outputs": [
    {
     "name": "stdout",
     "output_type": "stream",
     "text": [
      "$2.98\n"
     ]
    }
   ],
   "execution_count": 40
  },
  {
   "metadata": {
    "ExecuteTime": {
     "end_time": "2025-09-20T21:56:38.996564Z",
     "start_time": "2025-09-20T21:56:38.992189Z"
    }
   },
   "cell_type": "code",
   "source": [
    "# remove currency symbol from crypto price\n",
    "crypto_price = crypto_price.replace('$','')\n",
    "print(crypto_price)"
   ],
   "id": "2615272b60feed9e",
   "outputs": [
    {
     "name": "stdout",
     "output_type": "stream",
     "text": [
      "2.98\n"
     ]
    }
   ],
   "execution_count": 41
  },
  {
   "metadata": {
    "ExecuteTime": {
     "end_time": "2025-09-20T21:56:39.014964Z",
     "start_time": "2025-09-20T21:56:39.011200Z"
    }
   },
   "cell_type": "code",
   "source": [
    "# get datetime of refresh\n",
    "date_time = datetime.now()\n",
    "print(date_time)"
   ],
   "id": "e9fde0e9d2beae2a",
   "outputs": [
    {
     "name": "stdout",
     "output_type": "stream",
     "text": [
      "2025-09-20 14:56:39.012698\n"
     ]
    }
   ],
   "execution_count": 42
  },
  {
   "metadata": {
    "ExecuteTime": {
     "end_time": "2025-09-20T21:56:39.050891Z",
     "start_time": "2025-09-20T21:56:39.037106Z"
    }
   },
   "cell_type": "code",
   "source": [
    "# create dictionary and dataframe for all data\n",
    "date_time = datetime.now()\n",
    "dict_crypto = {'Name': crypto_name, 'Price': crypto_price, 'TimeStamp': date_time}\n",
    "df_crypto = pd.DataFrame([dict_crypto])\n",
    "df_crypto"
   ],
   "id": "e1fb9493494aeb0a",
   "outputs": [
    {
     "data": {
      "text/plain": [
       "  Name Price                  TimeStamp\n",
       "0  XRP  2.98 2025-09-20 14:56:39.039849"
      ],
      "text/html": [
       "<div>\n",
       "<style scoped>\n",
       "    .dataframe tbody tr th:only-of-type {\n",
       "        vertical-align: middle;\n",
       "    }\n",
       "\n",
       "    .dataframe tbody tr th {\n",
       "        vertical-align: top;\n",
       "    }\n",
       "\n",
       "    .dataframe thead th {\n",
       "        text-align: right;\n",
       "    }\n",
       "</style>\n",
       "<table border=\"1\" class=\"dataframe\">\n",
       "  <thead>\n",
       "    <tr style=\"text-align: right;\">\n",
       "      <th></th>\n",
       "      <th>Name</th>\n",
       "      <th>Price</th>\n",
       "      <th>TimeStamp</th>\n",
       "    </tr>\n",
       "  </thead>\n",
       "  <tbody>\n",
       "    <tr>\n",
       "      <th>0</th>\n",
       "      <td>XRP</td>\n",
       "      <td>2.98</td>\n",
       "      <td>2025-09-20 14:56:39.039849</td>\n",
       "    </tr>\n",
       "  </tbody>\n",
       "</table>\n",
       "</div>"
      ]
     },
     "execution_count": 43,
     "metadata": {},
     "output_type": "execute_result"
    }
   ],
   "execution_count": 43
  },
  {
   "metadata": {
    "ExecuteTime": {
     "end_time": "2025-09-20T21:56:39.167096Z",
     "start_time": "2025-09-20T21:56:39.154752Z"
    }
   },
   "cell_type": "code",
   "source": [
    "# create csv file of data and place in folder\n",
    "df_crypto.to_csv(r'C:\\Users\\marcu\\PythonProjects\\Crypto_Automation.csv')"
   ],
   "id": "850fba80295c8fe5",
   "outputs": [],
   "execution_count": 44
  },
  {
   "metadata": {
    "ExecuteTime": {
     "end_time": "2025-09-20T21:56:39.346790Z",
     "start_time": "2025-09-20T21:56:39.333611Z"
    }
   },
   "cell_type": "code",
   "source": [
    "# conditional file logic\n",
    "if os.path.exists(r'C:\\Users\\marcu\\PythonProjects\\Crypto_Automation.csv'):\n",
    "    df_crypto.to_csv(r'C:\\Users\\marcu\\PythonProjects\\Crypto_Automation.csv', mode='a', header=False)\n",
    "else:\n",
    "    df_crypto.to_csv(r'C:\\Users\\marcu\\PythonProjects\\Crypto_Automation.csv')"
   ],
   "id": "705b1ce0c4640ac8",
   "outputs": [],
   "execution_count": 45
  },
  {
   "metadata": {},
   "cell_type": "markdown",
   "source": "# Automate",
   "id": "b994d42bf512735"
  },
  {
   "metadata": {
    "ExecuteTime": {
     "end_time": "2025-09-20T22:05:53.303061Z",
     "start_time": "2025-09-20T22:05:53.297969Z"
    }
   },
   "cell_type": "code",
   "source": [
    "# libraries\n",
    "import pandas as pd\n",
    "import os\n",
    "import requests\n",
    "import time\n",
    "from bs4 import BeautifulSoup\n",
    "from datetime import datetime"
   ],
   "id": "f62db1affbe01ee5",
   "outputs": [],
   "execution_count": 49
  },
  {
   "metadata": {
    "ExecuteTime": {
     "end_time": "2025-09-20T22:09:26.274186Z",
     "start_time": "2025-09-20T22:09:26.267188Z"
    }
   },
   "cell_type": "code",
   "source": [
    "def automated_crypto():\n",
    "    # get url and add requests\n",
    "    url = 'https://coinmarketcap.com/currencies/xrp/'\n",
    "    page = requests.get(url)\n",
    "    soup = BeautifulSoup(page.content, 'html.parser')\n",
    "\n",
    "    # get name of crypto coin\n",
    "    name_tag = soup.find('span', {'data-role': 'coin-name'})\n",
    "    crypto_name = name_tag.get('title')\n",
    "\n",
    "    # get crypto price\n",
    "    crypto_price = soup.find('span', class_ = 'sc-65e7f566-0 WXGwg base-text').text\n",
    "    # remove currency symbol from crypto price\n",
    "    crypto_price = crypto_price.replace('$','')\n",
    "\n",
    "    # create dictionary and dataframe for all data\n",
    "    date_time = datetime.now()\n",
    "    dict_crypto = {'Name': crypto_name, 'Price': crypto_price, 'TimeStamp': date_time}\n",
    "    df_crypto = pd.DataFrame([dict_crypto])\n",
    "\n",
    "    # conditional file logic\n",
    "    if os.path.exists(r'C:\\Users\\marcu\\PythonProjects\\Crypto_Automation.csv'):\n",
    "        df_crypto.to_csv(r'C:\\Users\\marcu\\PythonProjects\\Crypto_Automation.csv', mode='a', header=False)\n",
    "    else:\n",
    "        df_crypto.to_csv(r'C:\\Users\\marcu\\PythonProjects\\Crypto_Automation.csv')\n",
    "    print(df_crypto)"
   ],
   "id": "dbe9f978c8a8714a",
   "outputs": [],
   "execution_count": 51
  },
  {
   "metadata": {
    "ExecuteTime": {
     "end_time": "2025-09-20T22:10:26.035339Z",
     "start_time": "2025-09-20T22:10:05.551253Z"
    }
   },
   "cell_type": "code",
   "source": [
    "while True:\n",
    "    automated_crypto()\n",
    "    time.sleep(10)"
   ],
   "id": "98304d87824fbd08",
   "outputs": [
    {
     "name": "stdout",
     "output_type": "stream",
     "text": [
      "  Name Price                  TimeStamp\n",
      "0  XRP  2.98 2025-09-20 15:10:05.784383\n",
      "  Name Price                  TimeStamp\n",
      "0  XRP  2.98 2025-09-20 15:10:15.990105\n"
     ]
    },
    {
     "ename": "KeyboardInterrupt",
     "evalue": "",
     "output_type": "error",
     "traceback": [
      "\u001B[31m---------------------------------------------------------------------------\u001B[39m",
      "\u001B[31mKeyboardInterrupt\u001B[39m                         Traceback (most recent call last)",
      "\u001B[36mCell\u001B[39m\u001B[36m \u001B[39m\u001B[32mIn[53]\u001B[39m\u001B[32m, line 3\u001B[39m\n\u001B[32m      1\u001B[39m \u001B[38;5;28;01mwhile\u001B[39;00m \u001B[38;5;28;01mTrue\u001B[39;00m:\n\u001B[32m      2\u001B[39m     automated_crypto()\n\u001B[32m----> \u001B[39m\u001B[32m3\u001B[39m     \u001B[43mtime\u001B[49m\u001B[43m.\u001B[49m\u001B[43msleep\u001B[49m\u001B[43m(\u001B[49m\u001B[32;43m10\u001B[39;49m\u001B[43m)\u001B[49m\n",
      "\u001B[31mKeyboardInterrupt\u001B[39m: "
     ]
    }
   ],
   "execution_count": 53
  }
 ],
 "metadata": {
  "kernelspec": {
   "display_name": "Python 3",
   "language": "python",
   "name": "python3"
  },
  "language_info": {
   "codemirror_mode": {
    "name": "ipython",
    "version": 2
   },
   "file_extension": ".py",
   "mimetype": "text/x-python",
   "name": "python",
   "nbconvert_exporter": "python",
   "pygments_lexer": "ipython2",
   "version": "2.7.6"
  }
 },
 "nbformat": 4,
 "nbformat_minor": 5
}
