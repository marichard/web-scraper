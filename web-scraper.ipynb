{
 "cells": [
  {
   "cell_type": "code",
   "id": "initial_id",
   "metadata": {
    "collapsed": true,
    "ExecuteTime": {
     "end_time": "2025-09-20T05:55:37.704629Z",
     "start_time": "2025-09-20T05:55:37.028554Z"
    }
   },
   "source": [
    "# Add libraries\n",
    "from bs4 import BeautifulSoup\n",
    "import requests"
   ],
   "outputs": [],
   "execution_count": 1
  },
  {
   "metadata": {
    "ExecuteTime": {
     "end_time": "2025-09-20T05:55:38.034677Z",
     "start_time": "2025-09-20T05:55:37.729562Z"
    }
   },
   "cell_type": "code",
   "source": [
    "# get url and add requests\n",
    "url = 'https://coinmarketcap.com/currencies/xrp/'\n",
    "page = requests.get(url)\n",
    "soup = BeautifulSoup(page.text, 'html')"
   ],
   "id": "d73494fb5db6d627",
   "outputs": [],
   "execution_count": 2
  },
  {
   "metadata": {
    "ExecuteTime": {
     "end_time": "2025-09-20T06:17:59.632845Z",
     "start_time": "2025-09-20T06:17:59.625405Z"
    }
   },
   "cell_type": "code",
   "source": [
    "# get name of crypto coin\n",
    "soup.find('span',class_ ='sc-65e7f566-0 lsTl')"
   ],
   "id": "f85968459c452d0d",
   "outputs": [
    {
     "data": {
      "text/plain": [
       "<span class=\"sc-65e7f566-0 lsTl\" data-role=\"coin-name\" title=\"XRP\">XRP<span class=\"sc-65e7f566-0 eQBACe coin-name-mobile\"> price</span></span>"
      ]
     },
     "execution_count": 9,
     "metadata": {},
     "output_type": "execute_result"
    }
   ],
   "execution_count": 9
  },
  {
   "metadata": {
    "ExecuteTime": {
     "end_time": "2025-09-20T06:44:10.330275Z",
     "start_time": "2025-09-20T06:44:10.324508Z"
    }
   },
   "cell_type": "code",
   "source": [
    "crypto_name = soup.find('span',class_='sc-65e7f566-0 lsTl').text\n",
    "print(crypto_name)"
   ],
   "id": "261e03679b04cb46",
   "outputs": [
    {
     "name": "stdout",
     "output_type": "stream",
     "text": [
      "XRP price\n"
     ]
    }
   ],
   "execution_count": 26
  },
  {
   "metadata": {
    "ExecuteTime": {
     "end_time": "2025-09-20T06:41:53.012684Z",
     "start_time": "2025-09-20T06:41:53.004698Z"
    }
   },
   "cell_type": "code",
   "source": [
    "# get price of crypto coin\n",
    "soup.find('span', class_ = 'sc-65e7f566-0 WXGwg base-text').text"
   ],
   "id": "fd57914b6dd22b56",
   "outputs": [
    {
     "data": {
      "text/plain": [
       "'$3.00'"
      ]
     },
     "execution_count": 22,
     "metadata": {},
     "output_type": "execute_result"
    }
   ],
   "execution_count": 22
  },
  {
   "metadata": {
    "ExecuteTime": {
     "end_time": "2025-09-20T06:56:15.906977Z",
     "start_time": "2025-09-20T06:56:15.898631Z"
    }
   },
   "cell_type": "code",
   "source": [
    "crypto_price = soup.find('span', class_ = 'sc-65e7f566-0 WXGwg base-text').text\n",
    "print(crypto_price)"
   ],
   "id": "32ad45af7730d0d9",
   "outputs": [
    {
     "name": "stdout",
     "output_type": "stream",
     "text": [
      "$3.00\n"
     ]
    }
   ],
   "execution_count": 32
  },
  {
   "metadata": {
    "ExecuteTime": {
     "end_time": "2025-09-20T06:56:51.802796Z",
     "start_time": "2025-09-20T06:56:51.799222Z"
    }
   },
   "cell_type": "code",
   "source": [
    "# remove currency symbol from crypto price\n",
    "crypto_price = crypto_price.replace('$','')\n",
    "print(crypto_price)"
   ],
   "id": "2615272b60feed9e",
   "outputs": [
    {
     "name": "stdout",
     "output_type": "stream",
     "text": [
      "3.00\n"
     ]
    }
   ],
   "execution_count": 34
  }
 ],
 "metadata": {
  "kernelspec": {
   "display_name": "Python 3",
   "language": "python",
   "name": "python3"
  },
  "language_info": {
   "codemirror_mode": {
    "name": "ipython",
    "version": 2
   },
   "file_extension": ".py",
   "mimetype": "text/x-python",
   "name": "python",
   "nbconvert_exporter": "python",
   "pygments_lexer": "ipython2",
   "version": "2.7.6"
  }
 },
 "nbformat": 4,
 "nbformat_minor": 5
}
