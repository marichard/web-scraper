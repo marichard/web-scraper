{
 "cells": [
  {
   "cell_type": "code",
   "id": "initial_id",
   "metadata": {
    "collapsed": true,
    "ExecuteTime": {
     "end_time": "2025-09-20T07:21:09.083421Z",
     "start_time": "2025-09-20T07:21:09.078599Z"
    }
   },
   "source": [
    "# Add libraries\n",
    "from bs4 import BeautifulSoup\n",
    "import pandas as pd\n",
    "import requests"
   ],
   "outputs": [],
   "execution_count": 46
  },
  {
   "metadata": {
    "ExecuteTime": {
     "end_time": "2025-09-20T07:21:11.217505Z",
     "start_time": "2025-09-20T07:21:11.010296Z"
    }
   },
   "cell_type": "code",
   "source": [
    "# get url and add requests\n",
    "url = 'https://coinmarketcap.com/currencies/xrp/'\n",
    "page = requests.get(url)\n",
    "soup = BeautifulSoup(page.content, 'html.parser')"
   ],
   "id": "d73494fb5db6d627",
   "outputs": [],
   "execution_count": 47
  },
  {
   "metadata": {
    "ExecuteTime": {
     "end_time": "2025-09-20T07:27:34.970182Z",
     "start_time": "2025-09-20T07:27:34.965917Z"
    }
   },
   "cell_type": "code",
   "source": [
    "# get name of crypto coin\n",
    "name_tag = soup.find('span', {'data-role': 'coin-name'})\n",
    "crypto_name = name_tag.get('title')\n",
    "print(crypto_name)"
   ],
   "id": "f85968459c452d0d",
   "outputs": [
    {
     "name": "stdout",
     "output_type": "stream",
     "text": [
      "XRP\n"
     ]
    }
   ],
   "execution_count": 50
  },
  {
   "metadata": {
    "ExecuteTime": {
     "end_time": "2025-09-20T07:30:10.317137Z",
     "start_time": "2025-09-20T07:30:10.311953Z"
    }
   },
   "cell_type": "code",
   "source": [
    "# get crypto price\n",
    "crypto_price = soup.find('span', class_ = 'sc-65e7f566-0 WXGwg base-text').text\n",
    "print(crypto_price)"
   ],
   "id": "32ad45af7730d0d9",
   "outputs": [
    {
     "name": "stdout",
     "output_type": "stream",
     "text": [
      "$3.00\n"
     ]
    }
   ],
   "execution_count": 55
  },
  {
   "metadata": {
    "ExecuteTime": {
     "end_time": "2025-09-20T07:30:13.602071Z",
     "start_time": "2025-09-20T07:30:13.598761Z"
    }
   },
   "cell_type": "code",
   "source": [
    "# remove currency symbol from crypto price\n",
    "crypto_price = crypto_price.replace('$','')\n",
    "print(crypto_price)"
   ],
   "id": "2615272b60feed9e",
   "outputs": [
    {
     "name": "stdout",
     "output_type": "stream",
     "text": [
      "3.00\n"
     ]
    }
   ],
   "execution_count": 56
  },
  {
   "metadata": {
    "ExecuteTime": {
     "end_time": "2025-09-20T07:31:06.991624Z",
     "start_time": "2025-09-20T07:31:06.983902Z"
    }
   },
   "cell_type": "code",
   "source": [
    "# create dictionary and dataframe\n",
    "dict = {'Name': crypto_name, 'Price': crypto_price}\n",
    "df_crypto = pd.DataFrame([dict])\n",
    "df_crypto"
   ],
   "id": "ffa782572e23ecb8",
   "outputs": [
    {
     "data": {
      "text/plain": [
       "  Name Price\n",
       "0  XRP  3.00"
      ],
      "text/html": [
       "<div>\n",
       "<style scoped>\n",
       "    .dataframe tbody tr th:only-of-type {\n",
       "        vertical-align: middle;\n",
       "    }\n",
       "\n",
       "    .dataframe tbody tr th {\n",
       "        vertical-align: top;\n",
       "    }\n",
       "\n",
       "    .dataframe thead th {\n",
       "        text-align: right;\n",
       "    }\n",
       "</style>\n",
       "<table border=\"1\" class=\"dataframe\">\n",
       "  <thead>\n",
       "    <tr style=\"text-align: right;\">\n",
       "      <th></th>\n",
       "      <th>Name</th>\n",
       "      <th>Price</th>\n",
       "    </tr>\n",
       "  </thead>\n",
       "  <tbody>\n",
       "    <tr>\n",
       "      <th>0</th>\n",
       "      <td>XRP</td>\n",
       "      <td>3.00</td>\n",
       "    </tr>\n",
       "  </tbody>\n",
       "</table>\n",
       "</div>"
      ]
     },
     "execution_count": 58,
     "metadata": {},
     "output_type": "execute_result"
    }
   ],
   "execution_count": 58
  }
 ],
 "metadata": {
  "kernelspec": {
   "display_name": "Python 3",
   "language": "python",
   "name": "python3"
  },
  "language_info": {
   "codemirror_mode": {
    "name": "ipython",
    "version": 2
   },
   "file_extension": ".py",
   "mimetype": "text/x-python",
   "name": "python",
   "nbconvert_exporter": "python",
   "pygments_lexer": "ipython2",
   "version": "2.7.6"
  }
 },
 "nbformat": 4,
 "nbformat_minor": 5
}
