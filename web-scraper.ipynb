{
 "cells": [
  {
   "cell_type": "code",
   "id": "initial_id",
   "metadata": {
    "collapsed": true,
    "ExecuteTime": {
     "end_time": "2025-09-20T19:00:38.816345Z",
     "start_time": "2025-09-20T19:00:38.812075Z"
    }
   },
   "source": [
    "# Add libraries\n",
    "import pandas as pd\n",
    "import requests\n",
    "from bs4 import BeautifulSoup\n",
    "from datetime import datetime"
   ],
   "outputs": [],
   "execution_count": 11
  },
  {
   "metadata": {
    "ExecuteTime": {
     "end_time": "2025-09-20T19:00:39.070369Z",
     "start_time": "2025-09-20T19:00:38.837035Z"
    }
   },
   "cell_type": "code",
   "source": [
    "# get url and add requests\n",
    "url = 'https://coinmarketcap.com/currencies/xrp/'\n",
    "page = requests.get(url)\n",
    "soup = BeautifulSoup(page.content, 'html.parser')"
   ],
   "id": "d73494fb5db6d627",
   "outputs": [],
   "execution_count": 12
  },
  {
   "metadata": {
    "ExecuteTime": {
     "end_time": "2025-09-20T19:00:39.082337Z",
     "start_time": "2025-09-20T19:00:39.078492Z"
    }
   },
   "cell_type": "code",
   "source": [
    "# get name of crypto coin\n",
    "name_tag = soup.find('span', {'data-role': 'coin-name'})\n",
    "crypto_name = name_tag.get('title')\n",
    "print(crypto_name)"
   ],
   "id": "f85968459c452d0d",
   "outputs": [
    {
     "name": "stdout",
     "output_type": "stream",
     "text": [
      "XRP\n"
     ]
    }
   ],
   "execution_count": 13
  },
  {
   "metadata": {
    "ExecuteTime": {
     "end_time": "2025-09-20T19:00:39.099826Z",
     "start_time": "2025-09-20T19:00:39.095778Z"
    }
   },
   "cell_type": "code",
   "source": [
    "# get crypto price\n",
    "crypto_price = soup.find('span', class_ = 'sc-65e7f566-0 WXGwg base-text').text\n",
    "print(crypto_price)"
   ],
   "id": "32ad45af7730d0d9",
   "outputs": [
    {
     "name": "stdout",
     "output_type": "stream",
     "text": [
      "$2.97\n"
     ]
    }
   ],
   "execution_count": 14
  },
  {
   "metadata": {
    "ExecuteTime": {
     "end_time": "2025-09-20T19:00:39.119334Z",
     "start_time": "2025-09-20T19:00:39.116204Z"
    }
   },
   "cell_type": "code",
   "source": [
    "# remove currency symbol from crypto price\n",
    "crypto_price = crypto_price.replace('$','')\n",
    "print(crypto_price)"
   ],
   "id": "2615272b60feed9e",
   "outputs": [
    {
     "name": "stdout",
     "output_type": "stream",
     "text": [
      "2.97\n"
     ]
    }
   ],
   "execution_count": 15
  },
  {
   "metadata": {
    "ExecuteTime": {
     "end_time": "2025-09-20T19:00:39.138785Z",
     "start_time": "2025-09-20T19:00:39.134464Z"
    }
   },
   "cell_type": "code",
   "source": [
    "# add datetime\n",
    "date_time = datetime.now()\n",
    "print(date_time)"
   ],
   "id": "e9fde0e9d2beae2a",
   "outputs": [
    {
     "name": "stdout",
     "output_type": "stream",
     "text": [
      "2025-09-20 12:00:39.136086\n"
     ]
    }
   ],
   "execution_count": 16
  },
  {
   "metadata": {
    "ExecuteTime": {
     "end_time": "2025-09-20T19:00:39.164504Z",
     "start_time": "2025-09-20T19:00:39.158042Z"
    }
   },
   "cell_type": "code",
   "source": [
    "# create dictionary and dataframe\n",
    "dict_crypto = {'Name': crypto_name, 'Price': crypto_price}\n",
    "df_crypto = pd.DataFrame([dict_crypto])\n",
    "df_crypto"
   ],
   "id": "e1fb9493494aeb0a",
   "outputs": [
    {
     "data": {
      "text/plain": [
       "  Name Price\n",
       "0  XRP  2.97"
      ],
      "text/html": [
       "<div>\n",
       "<style scoped>\n",
       "    .dataframe tbody tr th:only-of-type {\n",
       "        vertical-align: middle;\n",
       "    }\n",
       "\n",
       "    .dataframe tbody tr th {\n",
       "        vertical-align: top;\n",
       "    }\n",
       "\n",
       "    .dataframe thead th {\n",
       "        text-align: right;\n",
       "    }\n",
       "</style>\n",
       "<table border=\"1\" class=\"dataframe\">\n",
       "  <thead>\n",
       "    <tr style=\"text-align: right;\">\n",
       "      <th></th>\n",
       "      <th>Name</th>\n",
       "      <th>Price</th>\n",
       "    </tr>\n",
       "  </thead>\n",
       "  <tbody>\n",
       "    <tr>\n",
       "      <th>0</th>\n",
       "      <td>XRP</td>\n",
       "      <td>2.97</td>\n",
       "    </tr>\n",
       "  </tbody>\n",
       "</table>\n",
       "</div>"
      ]
     },
     "execution_count": 17,
     "metadata": {},
     "output_type": "execute_result"
    }
   ],
   "execution_count": 17
  }
 ],
 "metadata": {
  "kernelspec": {
   "display_name": "Python 3",
   "language": "python",
   "name": "python3"
  },
  "language_info": {
   "codemirror_mode": {
    "name": "ipython",
    "version": 2
   },
   "file_extension": ".py",
   "mimetype": "text/x-python",
   "name": "python",
   "nbconvert_exporter": "python",
   "pygments_lexer": "ipython2",
   "version": "2.7.6"
  }
 },
 "nbformat": 4,
 "nbformat_minor": 5
}
